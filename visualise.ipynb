{
 "cells": [
  {
   "cell_type": "markdown",
   "metadata": {},
   "source": [
    "### You'll need Matplotlib, Shapely (>= 1.6b2), and Descartes"
   ]
  },
  {
   "cell_type": "markdown",
   "metadata": {},
   "source": [
    "### You'll also need Rust. Get it from [rustup.rs](https://rustup.rs)"
   ]
  },
  {
   "cell_type": "markdown",
   "metadata": {},
   "source": [
    "#### First, build a binary with some extra instrumentation – this writes the node positions to a text file"
   ]
  },
  {
   "cell_type": "code",
   "execution_count": 35,
   "metadata": {
    "collapsed": false
   },
   "outputs": [
    {
     "name": "stderr",
     "output_type": "stream",
     "text": [
      "    Finished release [optimized] target(s) in 0.0 secs\n"
     ]
    }
   ],
   "source": [
    "%%bash\n",
    "cargo build --release"
   ]
  },
  {
   "cell_type": "code",
   "execution_count": 42,
   "metadata": {
    "collapsed": false
   },
   "outputs": [],
   "source": [
    "from matplotlib import pyplot as plt\n",
    "from matplotlib.collections import PatchCollection\n",
    "from shapely.geometry import LineString, Polygon, Point, box\n",
    "from shapely.geometry.multipolygon import asMultiPolygon\n",
    "from descartes import PolygonPatch\n",
    "from ffi import label_position\n",
    "from ast import literal_eval\n",
    "\n",
    "%matplotlib inline"
   ]
  },
  {
   "cell_type": "markdown",
   "metadata": {},
   "source": [
    "#### This is our initial polygon. You can substitute your own if you like – just set `initial_polygon` to a valid Shapely `Polygon`"
   ]
  },
  {
   "cell_type": "code",
   "execution_count": 58,
   "metadata": {
    "collapsed": false
   },
   "outputs": [
    {
     "data": {
      "image/svg+xml": [
       "<svg xmlns=\"http://www.w3.org/2000/svg\" xmlns:xlink=\"http://www.w3.org/1999/xlink\" width=\"100.0\" height=\"100.0\" viewBox=\"-0.16 -0.16 4.32 4.32\" preserveAspectRatio=\"xMinYMin meet\"><g transform=\"matrix(1,0,0,-1,0,4.0)\"><path fill-rule=\"evenodd\" fill=\"#66cc99\" stroke=\"#555555\" stroke-width=\"0.0864\" opacity=\"0.6\" d=\"M 0.0,0.0 L 4.0,0.0 L 4.0,1.0 L 1.0,1.0 L 1.0,4.0 L 0.0,4.0 L 0.0,0.0 z\" /></g></svg>"
      ],
      "text/plain": [
       "<shapely.geometry.polygon.Polygon at 0x1075cb210>"
      ]
     },
     "execution_count": 58,
     "metadata": {},
     "output_type": "execute_result"
    }
   ],
   "source": [
    "initial_polygon = Polygon([\n",
    "    (0.0, 0.0),\n",
    "    (4.0, 0.0),\n",
    "    (4.0, 1.0),\n",
    "    (1.0, 1.0),\n",
    "    (1.0, 4.0),\n",
    "    (0.0, 4.0),\n",
    "    (0.0, 0.0)\n",
    "])\n",
    "\n",
    "initial_polygon"
   ]
  },
  {
   "cell_type": "markdown",
   "metadata": {},
   "source": [
    "#### Now find its pole of inacessibility. This also dumps the node coordinates to `nodes.txt`"
   ]
  },
  {
   "cell_type": "code",
   "execution_count": 59,
   "metadata": {
    "collapsed": false
   },
   "outputs": [],
   "source": [
    "label = Point(label_position(initial_polygon, tolerance=0.1))"
   ]
  },
  {
   "cell_type": "markdown",
   "metadata": {},
   "source": [
    "Convert the nodes into Boxes"
   ]
  },
  {
   "cell_type": "code",
   "execution_count": 60,
   "metadata": {
    "collapsed": false
   },
   "outputs": [],
   "source": [
    "# eval 😱 – but it's safe\n",
    "with open('nodes.txt', 'r') as f:\n",
    "    quad_polygons = [box(*tup) for tup in map(literal_eval, f)]\n",
    "\n",
    "# get quadtree bounds\n",
    "bounds = asMultiPolygon(quad_polygons).bounds"
   ]
  },
  {
   "cell_type": "code",
   "execution_count": 44,
   "metadata": {
    "collapsed": false
   },
   "outputs": [],
   "source": [
    "save_args = {\n",
    "    \"format\": \"png\",\n",
    "    \"bbox_inches\": 'tight',\n",
    "    \"pad_inches\": 0,\n",
    "    \"alpha\": True,\n",
    "    \"transparent\": True,\n",
    "    \"dpi\": 300\n",
    "}"
   ]
  },
  {
   "cell_type": "markdown",
   "metadata": {},
   "source": [
    "#### Draw one frame per Box"
   ]
  },
  {
   "cell_type": "code",
   "execution_count": null,
   "metadata": {
    "collapsed": false
   },
   "outputs": [],
   "source": [
    "fig = plt.figure(1, figsize=(5., 5.), dpi=300)\n",
    "ax = fig.add_subplot(121)\n",
    "ax.set_aspect('equal')\n",
    "ax.get_xaxis().set_visible(False)\n",
    "ax.get_yaxis().set_visible(False)\n",
    "ax.axis('off')\n",
    "ax.set_xlim(bounds[0] - .15, bounds[2] + .15)\n",
    "ax.set_ylim(bounds[1] - .15, bounds[3] + .15)\n",
    "\n",
    "# add initial polygon\n",
    "ax.add_patch(PolygonPatch(initial_polygon, fc='None', ec='#000000', lw=0.5, alpha=1.0, zorder=2))\n",
    "# add centroid as dot patch\n",
    "ax.add_patch(PolygonPatch(initial_polygon.centroid.buffer(.025), lw=0.25, fc='#ffa500', ec='#000000', zorder=4))\n",
    "plt.savefig(\"data/polylabel_000.png\", **save_args)\n",
    "\n",
    "# build patches as needed\n",
    "ppatches = (PolygonPatch(poly, fc='None', ec='#ff0000', alpha=1.0, zorder=3, lw=0.25) for poly in quad_polygons)\n",
    "\n",
    "# consume consume\n",
    "for i in xrange(1, len(quad_polygons) + 1):\n",
    "    ax.add_patch(ppatches.next())\n",
    "    plt.savefig(\"data/polylabel_{:03d}.png\".format(i), **save_args)\n",
    "\n",
    "# add pole of inaccessibility as patch\n",
    "ax.add_patch(PolygonPatch(label.buffer(.025), lw=0.25, fc='#00b3b3', ec='#000000', zorder=4))\n",
    "\n",
    "# save final plot\n",
    "plt.savefig(\"data/polylabel_{:03d}.png\".format(i + 1), **save_args)\n",
    "plt.show()"
   ]
  },
  {
   "cell_type": "markdown",
   "metadata": {},
   "source": [
    "#### Make a GIF, and a pause at the end so we can see the calculated point"
   ]
  },
  {
   "cell_type": "code",
   "execution_count": null,
   "metadata": {
    "collapsed": false
   },
   "outputs": [],
   "source": [
    "%%bash\n",
    "convert -background white -alpha remove -layers OptimizePlus -set delay 20 -colors 512 -loop 0 -scale 100% data/*.png output.gif\n",
    "convert output.gif \\( +clone -set delay 300 \\) +swap +delete  output.gif"
   ]
  },
  {
   "cell_type": "code",
   "execution_count": null,
   "metadata": {
    "collapsed": true
   },
   "outputs": [],
   "source": []
  }
 ],
 "metadata": {
  "kernelspec": {
   "display_name": "Python 2",
   "language": "python",
   "name": "python2"
  },
  "language_info": {
   "codemirror_mode": {
    "name": "ipython",
    "version": 2
   },
   "file_extension": ".py",
   "mimetype": "text/x-python",
   "name": "python",
   "nbconvert_exporter": "python",
   "pygments_lexer": "ipython2",
   "version": "2.7.10"
  }
 },
 "nbformat": 4,
 "nbformat_minor": 1
}
