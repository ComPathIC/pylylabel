{
 "cells": [
  {
   "cell_type": "code",
   "execution_count": 1,
   "metadata": {
    "collapsed": false
   },
   "outputs": [
    {
     "name": "stderr",
     "output_type": "stream",
     "text": [
      "/Users/sth/dev/rust-polylabel/venv/lib/python2.7/site-packages/matplotlib/__init__.py:913: UserWarning: axes.color_cycle is deprecated and replaced with axes.prop_cycle; please use the latter.\n",
      "  warnings.warn(self.msg_depr % (key, alt_key))\n"
     ]
    }
   ],
   "source": [
    "from matplotlib import pyplot as plt\n",
    "from matplotlib.collections import PatchCollection\n",
    "from shapely.geometry import LineString, Polygon, Point, box, shape\n",
    "from shapely.algorithms.polylabel import polylabel\n",
    "from descartes import PolygonPatch\n",
    "\n",
    "from ipywidgets import interact, interactive, fixed\n",
    "\n",
    "%matplotlib inline"
   ]
  },
  {
   "cell_type": "code",
   "execution_count": 2,
   "metadata": {
    "collapsed": false
   },
   "outputs": [],
   "source": [
    "initial_polygon = Polygon([\n",
    "    (0.0, 0.0),\n",
    "    (4.0, 0.0),\n",
    "    (4.0, 1.0),\n",
    "    (1.0, 1.0),\n",
    "    (1.0, 4.0),\n",
    "    (0.0, 4.0),\n",
    "    (0.0, 0.0)\n",
    "])"
   ]
  },
  {
   "cell_type": "code",
   "execution_count": 7,
   "metadata": {
    "collapsed": true
   },
   "outputs": [],
   "source": [
    "quad_polygons = [\n",
    "    box(0, 0, 4, 4),\n",
    "    box(0, 0, 2, 2),\n",
    "    box(2, 0, 4, 2),\n",
    "    box(0, 2, 2, 4),\n",
    "    box(2, 2, 4, 4),\n",
    "    box(0, 0, 1, 1),\n",
    "    box(1, 0, 2, 1),\n",
    "    box(0, 1, 1, 2),\n",
    "    box(1, 1, 2, 2),\n",
    "    box(0, 2, 1, 3),\n",
    "    box(1, 2, 2, 3),\n",
    "    box(0, 3, 1, 4),\n",
    "    box(1, 3, 2, 4),\n",
    "    box(2, 0, 3, 1),\n",
    "    box(3, 0, 4, 1),\n",
    "    box(2, 1, 3, 2),\n",
    "    box(3, 1, 4, 2),\n",
    "    box(0, 1, 0.5, 1.5),\n",
    "    box(0.5, 1, 1, 1.5),\n",
    "    box(0, 1.5, 0.5, 2),\n",
    "    box(0.5, 1.5, 1, 2),\n",
    "    box(0, 2, 0.5, 2.5),\n",
    "    box(0.5, 2, 1, 2.5),\n",
    "    box(0, 2.5, 0.5, 3),\n",
    "    box(0.5, 2.5, 1, 3),\n",
    "    box(1, 0, 1.5, 0.5),\n",
    "    box(1.5, 0, 2, 0.5),\n",
    "    box(1, 0.5, 1.5, 1),\n",
    "    box(1.5, 0.5, 2, 1),\n",
    "    box(2, 0, 2.5, 0.5),\n",
    "    box(2.5, 0, 3, 0.5),\n",
    "    box(2, 0.5, 2.5, 1),\n",
    "    box(2.5, 0.5, 3, 1),\n",
    "    box(3, 0, 3.5, 0.5),\n",
    "    box(3.5, 0, 4, 0.5),\n",
    "    box(3, 0.5, 3.5, 1),\n",
    "    box(3.5, 0.5, 4, 1),\n",
    "    box(0, 0, 0.5, 0.5),\n",
    "    box(0.5, 0, 1, 0.5),\n",
    "    box(0, 0.5, 0.5, 1),\n",
    "    box(0.5, 0.5, 1, 1),\n",
    "    box(0, 3, 0.5, 3.5),\n",
    "    box(0.5, 3, 1, 3.5),\n",
    "    box(0, 3.5, 0.5, 4),\n",
    "    box(0.5, 3.5, 1, 4),\n",
    "    box(0.5, 0.5, 0.75, 0.75),\n",
    "    box(0.75, 0.5, 1, 0.75),\n",
    "    box(0.5, 0.75, 0.75, 1),\n",
    "    box(0.75, 0.75, 1, 1),\n",
    "    box(0.5, 0.5, 0.625, 0.625),\n",
    "    box(0.625, 0.5, 0.75, 0.625),\n",
    "    box(0.5, 0.625, 0.625, 0.75),\n",
    "    box(0.625, 0.625, 0.75, 0.75),\n",
    "]"
   ]
  },
  {
   "cell_type": "code",
   "execution_count": 12,
   "metadata": {
    "collapsed": false
   },
   "outputs": [],
   "source": [
    "save_args = {\n",
    "    \"format\": \"png\",\n",
    "    \"bbox_inches\": 'tight',\n",
    "    \"pad_inches\": 0,\n",
    "    \"alpha\": True,\n",
    "    \"transparent\": True,\n",
    "    \"dpi\": 300\n",
    "}"
   ]
  },
  {
   "cell_type": "code",
   "execution_count": 13,
   "metadata": {
    "collapsed": false
   },
   "outputs": [
    {
     "data": {
      "image/png": "[encoded data removed]",
      "text/plain": [
       "<matplotlib.figure.Figure at 0x105f42610>"
      ]
     },
     "metadata": {},
     "output_type": "display_data"
    }
   ],
   "source": [
    "ppatches = [PolygonPatch(poly, fc='None', ec='#ff0000', alpha=1.0, zorder=3, lw=0.25) for poly in quad_polygons]\n",
    "\n",
    "fig = plt.figure(1, figsize=(5., 5.), dpi=300)\n",
    "ax = fig.add_subplot(121)\n",
    "ax.set_aspect('equal')\n",
    "ax.get_xaxis().set_visible(False)\n",
    "ax.get_yaxis().set_visible(False)\n",
    "ax.axis('off')\n",
    "ax.set_xlim(-0.15, 4.15)\n",
    "ax.set_ylim(-0.15, 4.15)\n",
    "\n",
    "# add initial polygon\n",
    "ax.add_patch(PolygonPatch(initial_polygon, fc='None', ec='#000000', lw=0.5, alpha=1.0, zorder=2))\n",
    "# add centroid as dot patch\n",
    "ax.add_patch(PolygonPatch(Point(1.3571, 1.3571).buffer(.025), lw=0.25, fc='#ffa500', ec='#000000', zorder=4))\n",
    "plt.savefig(\"data/polylabel_000.png\", **save_args)\n",
    "\n",
    "j = 0\n",
    "for i, poly in enumerate(quad_polygons):\n",
    "    j += 1\n",
    "    ax.add_patch(ppatches[i])\n",
    "    plt.savefig(\"data/polylabel_{:03d}.png\".format(i + 1), **save_args)\n",
    "\n",
    "# add pole of inaccessibility as patch\n",
    "ax.add_patch(PolygonPatch(Point(0.5625, 0.5625).buffer(.025), lw=0.25, fc='#00b3b3', ec='#000000', zorder=4))\n",
    "\n",
    "# save final plot\n",
    "plt.savefig(\"data/polylabel_{:03d}.png\".format(j + 1), **save_args)\n",
    "plt.show()"
   ]
  },
  {
   "cell_type": "code",
   "execution_count": null,
   "metadata": {
    "collapsed": true
   },
   "outputs": [],
   "source": [
    "%%bash\n",
    "convert -background white -alpha remove -layers OptimizePlus -set delay 20 -colors 512 -loop 0 -scale 100% data/*.png output.gif"
   ]
  },
  {
   "cell_type": "code",
   "execution_count": null,
   "metadata": {
    "collapsed": true
   },
   "outputs": [],
   "source": []
  }
 ],
 "metadata": {
  "kernelspec": {
   "display_name": "Python 2",
   "language": "python",
   "name": "python2"
  },
  "language_info": {
   "codemirror_mode": {
    "name": "ipython",
    "version": 2
   },
   "file_extension": ".py",
   "mimetype": "text/x-python",
   "name": "python",
   "nbconvert_exporter": "python",
   "pygments_lexer": "ipython2",
   "version": "2.7.10"
  }
 },
 "nbformat": 4,
 "nbformat_minor": 1
}
